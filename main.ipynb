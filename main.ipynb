{
 "cells": [
  {
   "cell_type": "markdown",
   "metadata": {},
   "source": [
    "# Knapsack problem using Genetic Algorithm"
   ]
  },
  {
   "cell_type": "code",
   "execution_count": 226,
   "metadata": {},
   "outputs": [],
   "source": [
    "# import necessary libraries\n",
    "\n",
    "import numpy as np\n",
    "import operator\n",
    "import random\n",
    "import pandas as pd\n",
    "import matplotlib.pyplot as plt"
   ]
  },
  {
   "cell_type": "markdown",
   "metadata": {},
   "source": [
    "### Create necessary classes, functions and constants"
   ]
  },
  {
   "cell_type": "code",
   "execution_count": 194,
   "metadata": {},
   "outputs": [],
   "source": [
    "MAX_CAPACITY = 15 # the maximum weight of the knapsack\n",
    "\n",
    "ITEMS = [[\"Barraca\", 150, 3.5],\n",
    "         [\"Saco de dormir\", 100, 2.0],\n",
    "         [\"Isolante térmico\", 50, 0.5],\n",
    "         [\"Colchão inflável\", 80, 1.0],\n",
    "         [\"Lanterna\", 30, 0.2],\n",
    "         [\"Kit de primeiros socorros\", 20, 0.5],\n",
    "         [\"Repelente de insetos\", 15, 0.1],\n",
    "         [\"Protetor solar\", 20, 0.2],\n",
    "         [\"Canivete\", 10, 0.1],\n",
    "         [\"Mapa e bússola\", 25, 0.3],\n",
    "         [\"Garrafa de água\", 15, 1.8],\n",
    "         [\"Filtro de água\", 50, 0.5],\n",
    "         [\"Comida (ração liofilizada)\", 50, 3.0],\n",
    "         [\"Fogão de camping\", 70, 1.5],\n",
    "         [\"Botijão de gás\", 30, 1.2],\n",
    "         [\"Prato, talheres e caneca\", 20, 0.5],\n",
    "         [\"Roupas (conjunto)\", 80, 1.5],\n",
    "         [\"Calçados (botas)\", 120, 2.0],\n",
    "         [\"Toalha\", 20, 0.5],\n",
    "         [\"Kit de higiene pessoal\", 30, 0.5]]\n",
    "\n",
    "NUM_ITEMS = len(ITEMS)"
   ]
  },
  {
   "cell_type": "code",
   "execution_count": 190,
   "metadata": {},
   "outputs": [],
   "source": [
    "# define class to handle \"items\"\n",
    "\n",
    "class Item:\n",
    "    def __init__(self, name, price, weight):\n",
    "        self.name = name\n",
    "        self.price = price\n",
    "        self.weight = weight\n",
    "\n",
    "    def __repr__(self):\n",
    "        return self.name + \": \" + \"R$ \" + str(self.price) + \" | Peso: \" + str(self.weight) + \" kg\""
   ]
  },
  {
   "cell_type": "code",
   "execution_count": 197,
   "metadata": {},
   "outputs": [],
   "source": [
    "item_list = []\n",
    "\n",
    "for item in ITEMS:\n",
    "    name = item[0]\n",
    "    price = item[1]\n",
    "    weight = item[2]\n",
    "    \n",
    "    item_list.append(Item(name, price, weight))"
   ]
  },
  {
   "cell_type": "code",
   "execution_count": 217,
   "metadata": {},
   "outputs": [],
   "source": [
    "# define fitness function\n",
    "\n",
    "class Fitness:\n",
    "    def __init__(self, knapsack):\n",
    "        self.knapsack = knapsack\n",
    "        self.fitness = 0.0\n",
    "\n",
    "    def calculate_fitness(self):\n",
    "        total_price = 0.0\n",
    "        total_weight = 0.0\n",
    "\n",
    "        for i in range(0, len(self.knapsack)):\n",
    "            if self.knapsack[i] == 1: # if the item is picked up\n",
    "                item = item_list[i]\n",
    "                total_price += item.price\n",
    "                total_weight += item.weight\n",
    "        \n",
    "        if total_weight > MAX_CAPACITY:\n",
    "            self.fitness = 0.0\n",
    "        else:\n",
    "            self.fitness = total_price\n",
    "\n",
    "        return self.fitness"
   ]
  },
  {
   "cell_type": "code",
   "execution_count": 199,
   "metadata": {},
   "outputs": [],
   "source": [
    "# print informations about the knapsack\n",
    "\n",
    "def print_knapsack(knapsack):\n",
    "    total_price = 0.0\n",
    "    total_weight = 0.0\n",
    "\n",
    "    for i in range(0, len(knapsack)):\n",
    "        if knapsack[i] == 1:\n",
    "            item = item_list[i]\n",
    "            total_price += item.price\n",
    "            total_weight += item.weight\n",
    "            print(item)\n",
    "\n",
    "    print(\"\\nValor da mochila (R$): R$ \" + str(total_price))\n",
    "    print(\"Peso da mochila (kg): \" + str(round(total_weight, 2)) + \" kg\\n\")"
   ]
  },
  {
   "cell_type": "markdown",
   "metadata": {},
   "source": [
    "### Create our initial population"
   ]
  },
  {
   "cell_type": "code",
   "execution_count": 200,
   "metadata": {},
   "outputs": [],
   "source": [
    "# create a solution\n",
    "\n",
    "def create_knapsack():\n",
    "    knapsack = [random.randint(0, 1) for _ in range(NUM_ITEMS)]\n",
    "    return knapsack"
   ]
  },
  {
   "cell_type": "code",
   "execution_count": 201,
   "metadata": {},
   "outputs": [],
   "source": [
    "#  generate initial population\n",
    "\n",
    "def gen_initial_population(pop_size):\n",
    "    population = [create_knapsack() for _ in range(pop_size)]\n",
    "\n",
    "    return population"
   ]
  },
  {
   "cell_type": "markdown",
   "metadata": {},
   "source": [
    "### Create the genetic algorithm"
   ]
  },
  {
   "cell_type": "code",
   "execution_count": 218,
   "metadata": {},
   "outputs": [],
   "source": [
    "# rank the knapsacks based on the fitness value\n",
    "\n",
    "def rank_knapsacks(population):\n",
    "    fitness_results = {}\n",
    "\n",
    "    for i in range(len(population)):\n",
    "        fitness_results[i] = Fitness(population[i]).calculate_fitness()\n",
    "\n",
    "    return sorted(fitness_results.items(), key=operator.itemgetter(1), reverse=True)"
   ]
  },
  {
   "cell_type": "code",
   "execution_count": 219,
   "metadata": {},
   "outputs": [],
   "source": [
    "# select individuals through tournament method\n",
    "\n",
    "def selection(population, tournament_size):\n",
    "    parents = []\n",
    "\n",
    "    # randomly select some individuals\n",
    "    selected = random.sample(population, tournament_size*2)\n",
    "    \n",
    "    first_tournament = selected[:tournament_size]\n",
    "    second_tournament = selected[tournament_size:]\n",
    "\n",
    "    first_winner = first_tournament[0]\n",
    "    second_winner = second_tournament[0]\n",
    "\n",
    "    for i in range(1, tournament_size):\n",
    "        if Fitness(first_tournament[i]).calculate_fitness() > Fitness(first_winner).calculate_fitness():\n",
    "            first_winner = first_tournament[i]\n",
    "\n",
    "        if Fitness(second_tournament[i]).calculate_fitness() > Fitness(second_winner).calculate_fitness():\n",
    "            second_winner = second_tournament[i]\n",
    "\n",
    "    parents.append(first_winner)\n",
    "    parents.append(second_winner)\n",
    "\n",
    "    return parents"
   ]
  },
  {
   "cell_type": "code",
   "execution_count": 210,
   "metadata": {},
   "outputs": [],
   "source": [
    "# crossover generates 2 children based on parent's parts\n",
    "\n",
    "def crossover(parents, crossover_rate):\n",
    "    children = parents\n",
    "\n",
    "    if random.random() < crossover_rate:\n",
    "        child_1 = parents[0][:NUM_ITEMS//2] + parents[1][NUM_ITEMS//2:]\n",
    "        child_2 = parents[0][NUM_ITEMS//2:] + parents[1][:NUM_ITEMS//2]\n",
    "        children = [child_1, child_2]\n",
    "\n",
    "    return children"
   ]
  },
  {
   "cell_type": "code",
   "execution_count": 207,
   "metadata": {},
   "outputs": [],
   "source": [
    "# mutation changes an individual by switching its bit\n",
    "\n",
    "def mutate(individuals, mutation_rate):\n",
    "    for individual in individuals:\n",
    "        if random.random() < mutation_rate:\n",
    "            pos = random.randint(0, NUM_ITEMS-1)\n",
    "            individual[pos] = 1 if individual[pos] == 0 else 0\n",
    "\n",
    "    return individuals"
   ]
  },
  {
   "cell_type": "code",
   "execution_count": 211,
   "metadata": {},
   "outputs": [],
   "source": [
    "# create a generation by applying the genetic operators\n",
    "\n",
    "def next_generation(current_gen, hyperparams):\n",
    "    next_gen = []\n",
    "    \n",
    "    while len(next_gen) < len(current_gen):\n",
    "        children = []\n",
    "\n",
    "        # get parents from tournament selection\n",
    "        parents = selection(current_gen, hyperparams[\"tournament_size\"])\n",
    "        \n",
    "        if random.random() < hyperparams[\"reprodution_rate\"]:\n",
    "            children = parents\n",
    "        else:\n",
    "            # crossover\n",
    "            children = crossover(parents, hyperparams[\"crossover_rate\"])\n",
    "\n",
    "            # mutation\n",
    "            children = mutate(children, hyperparams[\"mutation_rate\"])\n",
    "\n",
    "        next_gen.extend(children)\n",
    "\n",
    "    return next_gen[:len(current_gen)]"
   ]
  },
  {
   "cell_type": "code",
   "execution_count": 229,
   "metadata": {},
   "outputs": [],
   "source": [
    "def genetic_algorithm(hyperparams):\n",
    "    population = gen_initial_population(hyperparams[\"pop_size\"])\n",
    "    \n",
    "    ranked_knapsacks = rank_knapsacks(population)\n",
    "    best_knapsack_index = ranked_knapsacks[0][0]\n",
    "    print(\"MOCHILA INICIAL:\\n\")\n",
    "    print_knapsack(population[best_knapsack_index])\n",
    "\n",
    "    progress = []\n",
    "    progress.append(1/rank_knapsacks(population)[0][1])\n",
    "\n",
    "    for _ in range(hyperparams[\"generations\"]):\n",
    "        population = next_generation(population, hyperparams)\n",
    "        progress.append(1/rank_knapsacks(population)[0][1])\n",
    "\n",
    "    ranked_knapsacks = rank_knapsacks(population)\n",
    "    best_knapsack_index = ranked_knapsacks[0][0]\n",
    "    print(\"MOCHILA FINAL:\\n\")\n",
    "    print_knapsack(population[best_knapsack_index])\n",
    "\n",
    "    plt.plot(progress)\n",
    "    plt.ylabel('1/Price')\n",
    "    plt.xlabel('Generation')\n",
    "    plt.show()"
   ]
  },
  {
   "cell_type": "markdown",
   "metadata": {},
   "source": [
    "### Running the genetic algorithm"
   ]
  },
  {
   "cell_type": "code",
   "execution_count": 237,
   "metadata": {},
   "outputs": [
    {
     "name": "stdout",
     "output_type": "stream",
     "text": [
      "MOCHILA INICIAL:\n",
      "\n",
      "Barraca: R$ 150 | Peso: 3.5 kg\n",
      "Saco de dormir: R$ 100 | Peso: 2.0 kg\n",
      "Isolante térmico: R$ 50 | Peso: 0.5 kg\n",
      "Colchão inflável: R$ 80 | Peso: 1.0 kg\n",
      "Lanterna: R$ 30 | Peso: 0.2 kg\n",
      "Kit de primeiros socorros: R$ 20 | Peso: 0.5 kg\n",
      "Repelente de insetos: R$ 15 | Peso: 0.1 kg\n",
      "Filtro de água: R$ 50 | Peso: 0.5 kg\n",
      "Fogão de camping: R$ 70 | Peso: 1.5 kg\n",
      "Botijão de gás: R$ 30 | Peso: 1.2 kg\n",
      "Calçados (botas): R$ 120 | Peso: 2.0 kg\n",
      "Kit de higiene pessoal: R$ 30 | Peso: 0.5 kg\n",
      "\n",
      "Valor da mochila (R$): R$ 745.0\n",
      "Peso da mochila (kg): 13.5 kg\n",
      "\n",
      "MOCHILA FINAL:\n",
      "\n",
      "Barraca: R$ 150 | Peso: 3.5 kg\n",
      "Saco de dormir: R$ 100 | Peso: 2.0 kg\n",
      "Isolante térmico: R$ 50 | Peso: 0.5 kg\n",
      "Colchão inflável: R$ 80 | Peso: 1.0 kg\n",
      "Lanterna: R$ 30 | Peso: 0.2 kg\n",
      "Repelente de insetos: R$ 15 | Peso: 0.1 kg\n",
      "Protetor solar: R$ 20 | Peso: 0.2 kg\n",
      "Mapa e bússola: R$ 25 | Peso: 0.3 kg\n",
      "Filtro de água: R$ 50 | Peso: 0.5 kg\n",
      "Fogão de camping: R$ 70 | Peso: 1.5 kg\n",
      "Botijão de gás: R$ 30 | Peso: 1.2 kg\n",
      "Roupas (conjunto): R$ 80 | Peso: 1.5 kg\n",
      "Calçados (botas): R$ 120 | Peso: 2.0 kg\n",
      "Kit de higiene pessoal: R$ 30 | Peso: 0.5 kg\n",
      "\n",
      "Valor da mochila (R$): R$ 850.0\n",
      "Peso da mochila (kg): 15.0 kg\n",
      "\n"
     ]
    },
    {
     "data": {
      "image/png": "[encoded data removed]",
      "text/plain": [
       "<Figure size 640x480 with 1 Axes>"
      ]
     },
     "metadata": {},
     "output_type": "display_data"
    }
   ],
   "source": [
    "hyperparams = {\n",
    "    \"pop_size\": 100,\n",
    "    \"tournament_size\": 3,\n",
    "    \"reprodution_rate\": 0.3,\n",
    "    \"crossover_rate\": 0.4,\n",
    "    \"mutation_rate\": 0.02,\n",
    "    \"generations\": 50\n",
    "}\n",
    "\n",
    "genetic_algorithm(hyperparams=hyperparams)"
   ]
  },
  {
   "cell_type": "code",
   "execution_count": null,
   "metadata": {},
   "outputs": [],
   "source": []
  }
 ],
 "metadata": {
  "kernelspec": {
   "display_name": "Python 3",
   "language": "python",
   "name": "python3"
  },
  "language_info": {
   "codemirror_mode": {
    "name": "ipython",
    "version": 3
   },
   "file_extension": ".py",
   "mimetype": "text/x-python",
   "name": "python",
   "nbconvert_exporter": "python",
   "pygments_lexer": "ipython3",
   "version": "3.10.12"
  }
 },
 "nbformat": 4,
 "nbformat_minor": 2
}
