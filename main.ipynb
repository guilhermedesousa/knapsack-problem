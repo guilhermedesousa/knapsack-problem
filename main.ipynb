{
 "cells": [
  {
   "cell_type": "code",
   "execution_count": 1,
   "metadata": {},
   "outputs": [],
   "source": [
    "# importing necessary libraries\n",
    "\n",
    "import numpy as np\n",
    "import random"
   ]
  },
  {
   "cell_type": "code",
   "execution_count": null,
   "metadata": {},
   "outputs": [],
   "source": [
    "# defining the class to handle \"items\"\n",
    "\n",
    "class Item:\n",
    "    def __init__(self, name, price, weight):\n",
    "        self.name = name\n",
    "        self.price = price\n",
    "        self.weight = weight\n",
    "\n",
    "    def __repr__(self):\n",
    "        return self.name + \": \" + \"R$ \" + str(self.price) + \" | Peso: \" + str(self.weight) + \" kg\""
   ]
  },
  {
   "cell_type": "code",
   "execution_count": null,
   "metadata": {},
   "outputs": [],
   "source": [
    "# defining the fitness function\n",
    "\n",
    "class Fitness:\n",
    "    def __init__(self, max_capacity, itens):\n",
    "        self.max_capacity = max_capacity\n",
    "        self.itens = itens\n",
    "        self.fitness = 0.0\n",
    "\n",
    "    def calc_fitness(self, collection):\n",
    "        total_price = 0.0\n",
    "        total_weight = 0.0\n",
    "\n",
    "        for i in range(0, len(self.collection)):\n",
    "            if self.collection[i] == 1: # if the item is in the collection\n",
    "                item = self.itens[i]\n",
    "                total_price += item.price\n",
    "                total_weight += item.weight\n",
    "        \n",
    "        if total_weight > self.max_capacity:\n",
    "            self.fitness = 0.0\n",
    "        else:\n",
    "            self.fitness = total_price\n",
    "\n",
    "        return self.fitness"
   ]
  }
 ],
 "metadata": {
  "kernelspec": {
   "display_name": "Python 3",
   "language": "python",
   "name": "python3"
  },
  "language_info": {
   "codemirror_mode": {
    "name": "ipython",
    "version": 3
   },
   "file_extension": ".py",
   "mimetype": "text/x-python",
   "name": "python",
   "nbconvert_exporter": "python",
   "pygments_lexer": "ipython3",
   "version": "3.10.12"
  }
 },
 "nbformat": 4,
 "nbformat_minor": 2
}
